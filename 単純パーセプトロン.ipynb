{
 "cells": [
  {
   "cell_type": "code",
   "execution_count": 56,
   "id": "66d94aad-fcfa-4243-935f-0bf09a324234",
   "metadata": {},
   "outputs": [],
   "source": [
    "import numpy as np\n",
    "import matplotlib.pyplot as plt\n",
    "%matplotlib inline"
   ]
  },
  {
   "cell_type": "code",
   "execution_count": 57,
   "id": "2cad3bef-0731-4b8e-9e1e-59a9b7899a58",
   "metadata": {},
   "outputs": [],
   "source": [
    "#AND回路の説明変数と目的変数\n",
    "# AND回路の入力（4サンプル、特徴量2つ）\n",
    "#X (numpy.ndarray) : 入力の行列(m×n)\n",
    "#mがサンプル数、nが特徴量の数\n",
    "X = np.array([[0,0],\n",
    "              [0,1],\n",
    "              [1,0],\n",
    "              [1,1]])\n",
    "\n",
    "# AND回路の出力\n",
    "Y = np.array([[0],\n",
    "              [0],\n",
    "              [0],\n",
    "              [1]])"
   ]
  },
  {
   "cell_type": "code",
   "execution_count": 58,
   "id": "4bb56dbe-dd3e-4a27-ad4f-fbe299de57c7",
   "metadata": {},
   "outputs": [],
   "source": [
    "class SimplePerceptron:\n",
    "    def Sigmoid(self, value):\n",
    "        \"\"\"\n",
    "        シグモイド関数。活性化関数の種類を変える場合変更する。\n",
    "        \"\"\"\n",
    "        return 1.0/(1.0 + np.exp(- value))\n",
    "        \n",
    "    def Sigmoid_d(self, value):\n",
    "        \"\"\"\n",
    "        シグモイド関数の微分。活性化関数の種類を変える場合変更する。\n",
    "        \"\"\"\n",
    "        return self.Sigmoid(value) * (1.0 - self.Sigmoid(value))\n",
    "    \n",
    "    def ActivationFunction(self, value):\n",
    "        \"\"\"\n",
    "        活性化関数\n",
    "        \"\"\"\n",
    "        return self.Sigmoid(value)\n",
    "\n",
    "    def ActivationFunction_d(self, value):\n",
    "        \"\"\"\n",
    "        活性化関数の微分\n",
    "        \"\"\"\n",
    "        return self.Sigmoid_d(value)\n",
    "    \n",
    "    def __init__(self, linear = False, times = 1000, alpha = 0.4, epsilon = 0.001, seed=0):\n",
    "        \"\"\"\n",
    "        初期化\n",
    "        \n",
    "        引数:\n",
    "            linear (bool) : 非線形変換はFalse。\n",
    "            times        (int)  : 学習回数\n",
    "            alpha        (float): 勾配降下法における係数α\n",
    "            epsilon      (float): 学習を終了するJの閾値。誤差関数Jがこの値に到達したら学習停止。\n",
    "            seed         (int)  : シード値\n",
    "        \"\"\"\n",
    "        self.linear = linear\n",
    "        self.W = None\n",
    "        self.b = None\n",
    "        self.times = times\n",
    "        self.alpha = alpha\n",
    "        self.epsilon = epsilon\n",
    "        np.random.seed(seed)\n",
    "    \n",
    "    def J(self, Yh, Y):\n",
    "        \"\"\"\n",
    "        誤差関数(推定する出力と期待する出力の誤差)を計算\n",
    "        \n",
    "        引数:\n",
    "            Yh (numpy.ndarray): 活性化関数に代入した行列の結果(m×1の行列)。最急勾配法では傾き(微分)が0になる点を数値解析で処理するため、微分できる必要があるため0 or 1の非線形変換はしない状態である必要あり。\n",
    "            Y  (numpy.ndarray): 教師データ(m×1の行列).\n",
    "            \n",
    "        Returnes:\n",
    "            numpy.ndarray: スカラー.\n",
    "        \"\"\"\n",
    "        # 誤差関数を計算しjに代入。分母の2.0は微分後の係数を相殺するため。\n",
    "        j = ((Yh - Y) * (Yh - Y)).sum() / 2.0\n",
    "        \n",
    "        return j\n",
    "\n",
    "    def Delta(self, X, Y):\n",
    "        \"\"\"\n",
    "        最急勾配法における重みとバイアス項の偏微分項の計算\n",
    "        \n",
    "        引数:\n",
    "            X (numpy.ndarray) : 入力の行列(m×n)\n",
    "                                mがサンプル数\n",
    "                                nが特徴変数の数\n",
    "            Y (numpy.ndarray) : 教師データ(m×1の行列).\n",
    "            \n",
    "        Returns:\n",
    "            numpy.ndarray : Xに繋がる重みの偏微分\n",
    "            numpy.ndarray : バイアス項の偏微分\n",
    "        \"\"\"\n",
    "        m, n = X.shape\n",
    "        \n",
    "        # dw(n×1の行列)を0で初期化\n",
    "        dw = np.zeros((n,1))\n",
    "        db = np.zeros((1,1))\n",
    "\n",
    "        Z = X.dot(self.W) + self.b\n",
    "        Yh = self.ActivationFunction(Z)\n",
    "        G = self.ActivationFunction_d(Z)\n",
    "        for i in range(m):\n",
    "            \n",
    "            # バイアス項の偏微分を計算。[0][0]はpythonは0から配列を考えるため、バイアス項bに対して1x1行列を指定する[0][0]を一意で指定する他ない。\n",
    "            # δJ/δb=Σ[i(行)](Yh[i]-Y[i])*G[i]　　なお、G[i]はGにZ=X.dot(self.W) + self.である(4x1)行列を代入してできる、4x1行列のi行目の行ベクトル要素。\n",
    "            db[0][0] = db[0][0] + (Yh[i]  - Y[i]) * G[i]\n",
    "            \n",
    "            for j in range(n): #0,1,・・・,n-1のforループとなり、[j][0]の取り扱いと整合性あり。[i]は最初のforで指定している。\n",
    "                # δJ/δw[1,j]=Σ[i(行)](Yh[i]-Y[i])*G[i]*x[i,j]\n",
    "                # dwは今回2x1行列でdw1,dw2があるため、dw1、dw2ごとに計算。\n",
    "                dw[j][0] = dw[j][0] + (Yh[i] - Y[i]) * G[i] * X[i][j]\n",
    "                \n",
    "        return dw, db #dwは(2x1)行列で出力。最急勾配法の1回における偏微分項を求めるため、行ごとにdb,dw1,dw2を計算し、それの総和が最終出力ベクトルdw,dbとなる。\n",
    "        \n",
    "    def Fit(self, X, Y):\n",
    "\n",
    "        # 重みとバイアス項の初期条件。wはランダム値、bは0と指定。X.shape[1]はXがmxn行列のときX.shape=(m,n)となるため、X.shape[1]はnとなる。[]は0からカウントするためmではない。\n",
    "        self.W = np.random.rand(X.shape[1], 1)\n",
    "        self.b = np.zeros((1,1))\n",
    "\n",
    "        # 誤差関数の値がどう変わったのかを保存するリストを初期化\n",
    "        J_List = []\n",
    "\n",
    "        # 学習回数分だけ最急勾配法による繰り返し演算を実行。途中で閾値に達したらbreakさせる。\n",
    "        for _ in range(self.times):\n",
    "            Yh = self.ActivationFunction(X.dot(self.W) + self.b)\n",
    "\n",
    "            # 誤差関数の計算\n",
    "            j = self.J(Yh, Y)\n",
    "            J_List.append(j)\n",
    "\n",
    "            # 誤差がepsilon以下なら終了\n",
    "            if j <= self.epsilon:\n",
    "                break\n",
    "                \n",
    "            # 最急勾配法の実行。重みとバイアス項をforループで更新する\n",
    "            dw, db = self.Delta(X, Y)\n",
    "            self.W = self.W - self.alpha * dw\n",
    "            self.b = self.b - self.alpha * db            \n",
    "\n",
    "        return J_List\n",
    "\n",
    "    def Forward(self, X):\n",
    "        \"\"\"\n",
    "        Z: 重み付けとバイアス項の線形結合出力\n",
    "        a: Zを活性化関数に代入。非線形変換(0 or 1) はif not構文で対応。\n",
    "        self.linear == Falseの場合は0 or 1を返す\n",
    "        self.linear == Trueの場合は、非線形変換せずに0以上1以下の値を返す\n",
    "        Returns:\n",
    "            numpy.ndarray: 出力の行列(m×1)\n",
    "        \"\"\"\n",
    "\n",
    "        # 活性化関数への入力計算\n",
    "        Z = X.dot(self.W) + self.b\n",
    "        # 重みwとバイアス項bの線形結合である(4x1)行列を活性化関数に代入。出力aも(4x1)行列。\n",
    "        a = self.ActivationFunction(Z)\n",
    "        \n",
    "        if not self.linear:\n",
    "            # 0.5以上の項は1.0に、0.5未満の項は0.0にする\n",
    "            return np.where(a >= 0.5, 1.0, 0.0)\n",
    "\n",
    "        else:\n",
    "            return a"
   ]
  },
  {
   "cell_type": "code",
   "execution_count": 59,
   "id": "9a235998-5908-402a-bd49-c06d873f8b6a",
   "metadata": {},
   "outputs": [
    {
     "data": {
      "text/plain": [
       "Text(0, 0.5, 'error')"
      ]
     },
     "execution_count": 59,
     "metadata": {},
     "output_type": "execute_result"
    },
    {
     "data": {
      "image/png": "[encoded data removed]",
      "text/plain": [
       "<Figure size 640x480 with 1 Axes>"
      ]
     },
     "metadata": {},
     "output_type": "display_data"
    }
   ],
   "source": [
    "# モデル作成\n",
    "model = SimplePerceptron(linear=False, times=10000, alpha=0.1)\n",
    "error_f = model.Fit(X, Y)\n",
    "\n",
    "# 誤差関数が小さくなっていることの確認\n",
    "plt.plot(error_f)\n",
    "plt.xlabel(\"times\")\n",
    "plt.ylabel(\"error\")"
   ]
  },
  {
   "cell_type": "code",
   "execution_count": 62,
   "id": "93a190e1-da4b-41c2-8be2-9aba9e79bab3",
   "metadata": {},
   "outputs": [
    {
     "name": "stdout",
     "output_type": "stream",
     "text": [
      "最終的な W（重み）:\n",
      "[[5.4818278 ]\n",
      " [5.48182781]]\n",
      "最終的な b（バイアス）:\n",
      "[[-8.31542316]]\n",
      "活性化関数代入前のアウトプット:\n",
      "[[-8.31542316]\n",
      " [-2.83359535]\n",
      " [-2.83359536]\n",
      " [ 2.64823245]]\n",
      "活性化関数代入後(非線形変換前)のアウトプット:\n",
      "[[2.44653449e-04]\n",
      " [5.55355153e-02]\n",
      " [5.55355151e-02]\n",
      " [9.33901965e-01]]\n",
      "非線形変換を施した単純パーセプトロンによる学習最適化後の予測値:\n"
     ]
    },
    {
     "data": {
      "text/plain": [
       "array([[0.],\n",
       "       [0.],\n",
       "       [0.],\n",
       "       [1.]])"
      ]
     },
     "execution_count": 62,
     "metadata": {},
     "output_type": "execute_result"
    }
   ],
   "source": [
    "# 最終的な重みとバイアスを出力\n",
    "print(\"最終的な W（重み）:\")\n",
    "print(model.W)\n",
    "print(\"最終的な b（バイアス）:\")\n",
    "print(model.b)\n",
    "print(\"活性化関数代入前のアウトプット:\")\n",
    "print(X.dot(model.W) + model.b)\n",
    "print(\"活性化関数代入後(非線形変換前)のアウトプット:\")\n",
    "print(model.ActivationFunction(X.dot(model.W) + model.b))\n",
    "print(\"非線形変換を施した単純パーセプトロンによる学習最適化後の予測値:\")\n",
    "Y_pred = model.Forward(X)\n",
    "Y_pred"
   ]
  },
  {
   "cell_type": "code",
   "execution_count": 61,
   "id": "f30f7512-40ed-4c7b-ab66-50d8fb9e52f6",
   "metadata": {},
   "outputs": [
    {
     "name": "stdout",
     "output_type": "stream",
     "text": [
      "関数に代入前の行列\n",
      "[[0 0]\n",
      " [0 1]\n",
      " [1 0]\n",
      " [1 1]]\n",
      "行列をシグモイド関数に代入したときの挙動\n",
      "[[0.5        0.5       ]\n",
      " [0.5        0.73105858]\n",
      " [0.73105858 0.5       ]\n",
      " [0.73105858 0.73105858]]\n"
     ]
    }
   ],
   "source": [
    "print(\"関数に代入前の行列\")\n",
    "print(X)\n",
    "\n",
    "print(\"行列をシグモイド関数に代入したときの挙動\")\n",
    "behavior = 1.0/(1.0 + np.exp(- X))\n",
    "print(behavior)"
   ]
  },
  {
   "cell_type": "code",
   "execution_count": null,
   "id": "42846b80-39e3-48d6-83d4-81d2368f7b27",
   "metadata": {},
   "outputs": [],
   "source": []
  }
 ],
 "metadata": {
  "kernelspec": {
   "display_name": "Python 3 (ipykernel)",
   "language": "python",
   "name": "python3"
  },
  "language_info": {
   "codemirror_mode": {
    "name": "ipython",
    "version": 3
   },
   "file_extension": ".py",
   "mimetype": "text/x-python",
   "name": "python",
   "nbconvert_exporter": "python",
   "pygments_lexer": "ipython3",
   "version": "3.8.20"
  }
 },
 "nbformat": 4,
 "nbformat_minor": 5
}
